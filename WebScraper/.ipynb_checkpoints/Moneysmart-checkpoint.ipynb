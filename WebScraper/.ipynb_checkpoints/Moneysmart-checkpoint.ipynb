{
 "cells": [
  {
   "cell_type": "code",
   "execution_count": 1,
   "metadata": {},
   "outputs": [],
   "source": [
    "from urllib.request import urlopen\n",
    "from bs4 import BeautifulSoup\n",
    "import urllib.request\n",
    "from lxml import html\n",
    "import requests\n",
    "import re\n",
    "from bs4 import element\n",
    "import os\n",
    "import glob"
   ]
  },
  {
   "cell_type": "code",
   "execution_count": 8,
   "metadata": {},
   "outputs": [],
   "source": [
    "# Check for links of pages to scrape individual links\n",
    "\n",
    "def check_if_next_page(soup,class_name):\n",
    "    print(soup)\n",
    "    item = soup.find('a', attrs={'class':class_name})\n",
    "    if item:\n",
    "        return item['href']\n",
    "    return None"
   ]
  },
  {
   "cell_type": "code",
   "execution_count": 4,
   "metadata": {},
   "outputs": [],
   "source": [
    "# Scrape the different possible article urls and returns them as a BS4 object\n",
    "\n",
    "def crawl_content(url,category):\n",
    "    print(url)\n",
    "    headers = {'User-Agent':'Mozilla/5.0'}\n",
    "    page = requests.get(url)\n",
    "    #req = urllib.request.Request(url, headers={'User_agent':'Morzilla/5.0'})\n",
    "    soup = BeautifulSoup(page.text,\"html.parser\")\n",
    "    for item in soup.find_all('section', attrs={'class':'dt-block'}):\n",
    "        for article in item.find_all('div',attrs={'class':'row main-block'}):\n",
    "            art_link = article.a['href']\n",
    "            crawl_article(art_link,category)\n",
    "            \n",
    "    return soup"
   ]
  },
  {
   "cell_type": "code",
   "execution_count": 5,
   "metadata": {},
   "outputs": [],
   "source": [
    "# Scrape article and store as .txt file\n",
    "\n",
    "def crawl_article(art_link,category):\n",
    "    headers = {'User-Agent':'Mozilla/5.0'}\n",
    "    page = requests.get(art_link)\n",
    "    #req = urllib.request.Request(art_link, headers={'User-agent':'Morzilla/5.0'})\n",
    "    print(art_link)\n",
    "    soup = BeautifulSoup(page.text,\"html.parser\")\n",
    "    if soup.find('div',attrs={'class':'theiaStickySidebar'}):\n",
    "        content = soup.find('div',attrs={'class':'theiaStickySidebar'}).text\n",
    "    elif soup.find('div',attrs={'class':'site-content'}):\n",
    "        content = soup.find('div',attrs={'site-content'}).text\n",
    "    \n",
    "    file_count =  glob.glob(\"./moneysmart/*.*\")\n",
    "    f= open(\"./moneysmart/\" + category + str(len(file_count)) +\".txt\",\"w+\", encoding=\"utf-8\")\n",
    "    f.write(content)\n",
    "    f.close()"
   ]
  },
  {
   "cell_type": "code",
   "execution_count": null,
   "metadata": {},
   "outputs": [],
   "source": [
    "# Method to retrieve content and store it as a .txt file based on user input of category\n",
    "\n",
    "def get_content(category):\n",
    "    url = \"https://blog.moneysmart.sg/category/\" + category\n",
    "    req = urllib.request.Request(url, headers={'User-Agent':'Mozilla/5.0'})\n",
    "    soup = BeautifulSoup(urlopen(req).read(),\"html.parser\")\n",
    "    crawl_content(url,category)\n",
    "    counter = 1\n",
    "    page = check_if_next_page(soup,'btn btn-lg btn-block page-numbers')\n",
    "    if page:\n",
    "        soup = crawl_content(page,category)\n",
    "        page = check_if_next_page(soup,'btn btn-lg btn-block page-numbers')"
   ]
  },
  {
   "cell_type": "code",
   "execution_count": 6,
   "metadata": {},
   "outputs": [
    {
     "name": "stdout",
     "output_type": "stream",
     "text": [
      "https://blog.moneysmart.sg/category/home-insurance\n",
      "https://blog.moneysmart.sg/home-insurance/hdb-fire-insurance-home-insurance/\n",
      "https://blog.moneysmart.sg/home-insurance/home-insurance-etiqa-eprotect-home/\n",
      "https://blog.moneysmart.sg/home-insurance/after-spending-so-much-on-home-renovations-are-you-sure-your-home-is-protected/\n",
      "https://blog.moneysmart.sg/home-insurance/7-things-you-probably-dont-know-your-home-contents-insurance-covers-you-for/\n",
      "https://blog.moneysmart.sg/home-insurance/why-your-home-may-not-be-as-protected-as-you-think/\n"
     ]
    }
   ],
   "source": [
    "get_content(\"home-insurance\")"
   ]
  },
  {
   "cell_type": "code",
   "execution_count": 7,
   "metadata": {},
   "outputs": [
    {
     "name": "stdout",
     "output_type": "stream",
     "text": [
      "https://blog.moneysmart.sg/category/mortgage-insurance\n",
      "https://blog.moneysmart.sg/mortgage-insurance/mortgage-insurance-singapore/\n",
      "https://blog.moneysmart.sg/mortgage-insurance/do-hdb-owners-actually-know-what-the-home-protection-scheme-even-does-and-is-it-good-enough/\n",
      "https://blog.moneysmart.sg/mortgage-insurance/what-is-the-difference-between-fire-insurance-and-mortgage-insurance/\n",
      "https://blog.moneysmart.sg/mortgage-insurance/3-reasons-why-you-need-to-get-mortgage-insurance/\n",
      "https://blog.moneysmart.sg/mortgage-insurance/5-good-reasons-to-get-mortgage-insurance/\n",
      "https://blog.moneysmart.sg/category/home-loans\n",
      "https://blog.moneysmart.sg/home-loans/hsbc-home-loan-review/\n",
      "https://blog.moneysmart.sg/home-loans/standard-chartered-home-loan-review/\n",
      "https://blog.moneysmart.sg/home-loans/maybank-home-loan-review/\n",
      "https://blog.moneysmart.sg/home-loans/boc-home-loan-review/\n",
      "https://blog.moneysmart.sg/home-loans/citibank-home-loan-review/\n",
      "https://blog.moneysmart.sg/home-loans/dbs-ocbc-uob-home-loan-singapore/\n",
      "https://blog.moneysmart.sg/home-loans/divorce-who-keeps-property/\n",
      "https://blog.moneysmart.sg/property/best-home-loans-singapore-review/\n",
      "https://blog.moneysmart.sg/home-loans/ocbc-home-loan-review/\n",
      "https://blog.moneysmart.sg/home-loans/uob-home-loan-review/\n",
      "https://blog.moneysmart.sg/category/home-loans/page/2/\n",
      "https://blog.moneysmart.sg/home-loans/dbs-home-loan-review/\n",
      "https://blog.moneysmart.sg/home-loans/home-loan-mortgage-hdb-resale-tips/\n",
      "https://blog.moneysmart.sg/home-loans/questions-refinancing-home-loans-singapore/\n",
      "https://blog.moneysmart.sg/home-loans/choosing-home-loan-singapore/\n",
      "https://blog.moneysmart.sg/home-loans/dont-pay-off-home-loan-refinance/\n",
      "https://blog.moneysmart.sg/home-loans/total-debt-servicing-ratio-tdsr-loans/\n",
      "https://blog.moneysmart.sg/home-loans/refinancing-vs-repricing/\n",
      "https://blog.moneysmart.sg/home-loans/refinance-home-loan-singapore-guide/\n",
      "https://blog.moneysmart.sg/home-loans/uob-home-solution/\n",
      "https://blog.moneysmart.sg/home-loans/approval-in-principle/\n"
     ]
    }
   ],
   "source": [
    "get_content('mortgage-insurance')\n",
    "get_content('home-loans')\n"
   ]
  },
  {
   "cell_type": "code",
   "execution_count": null,
   "metadata": {},
   "outputs": [],
   "source": []
  }
 ],
 "metadata": {
  "kernelspec": {
   "display_name": "Python 3",
   "language": "python",
   "name": "python3"
  },
  "language_info": {
   "codemirror_mode": {
    "name": "ipython",
    "version": 3
   },
   "file_extension": ".py",
   "mimetype": "text/x-python",
   "name": "python",
   "nbconvert_exporter": "python",
   "pygments_lexer": "ipython3",
   "version": "3.6.5"
  }
 },
 "nbformat": 4,
 "nbformat_minor": 2
}
