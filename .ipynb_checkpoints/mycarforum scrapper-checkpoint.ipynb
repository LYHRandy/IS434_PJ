{
 "cells": [
  {
   "cell_type": "code",
   "execution_count": 1,
   "metadata": {},
   "outputs": [],
   "source": [
    "from urllib.request import urlopen\n",
    "from bs4 import BeautifulSoup\n",
    "import urllib.request\n",
    "from lxml import html\n",
    "import requests\n",
    "import re\n",
    "from bs4 import element\n",
    "import os\n",
    "\n",
    "os.mkdir(\"mycarforum\")"
   ]
  },
  {
   "cell_type": "code",
   "execution_count": 52,
   "metadata": {},
   "outputs": [
    {
     "name": "stdout",
     "output_type": "stream",
     "text": [
      "17\n",
      "17\n",
      "https://www.mycarforum.com/forums/topic/2714850-private-property-pricesstill-up-or-down-part-ii/\n",
      "https://www.mycarforum.com/forums/topic/2694857-property-in-johor/\n",
      "https://www.mycarforum.com/forums/topic/2717095-greater-southern-waterfront-discussion/\n",
      "https://www.mycarforum.com/forums/topic/2717194-mercs-property-news-updates/\n",
      "https://www.mycarforum.com/forums/topic/2716502-singapore-private-property-prices-still-up-or-down-part-iii/\n",
      "https://www.mycarforum.com/forums/topic/2709398-when-deal-with-a-seller-agent-how-to-check-trustworthiness/\n",
      "https://www.mycarforum.com/forums/topic/2717244-hdb-income-ceiling-revised-2019/\n",
      "https://www.mycarforum.com/forums/topic/2711569-why-did-you-chose-you-current-hdb-flat/\n",
      "https://www.mycarforum.com/forums/topic/2708702-buying-a-condo-with-tenancy-is-there-any-catch/\n",
      "https://www.mycarforum.com/forums/topic/2673419-sibor-rates-and-home-loan-repricing/\n",
      "https://www.mycarforum.com/forums/topic/2667792-fh-condo-that-is-near-mrt/\n",
      "https://www.mycarforum.com/forums/topic/2352975-is-it-a-good-time-to-buy-a-landed-property-to-stay-now/\n",
      "https://www.mycarforum.com/forums/topic/2694400-mixed-development-with-retail-and-fb/\n",
      "https://www.mycarforum.com/forums/topic/2712227-noob-questions-on-property/\n",
      "https://www.mycarforum.com/forums/topic/2705643-need-advises-on-buying-flat-and-investing/\n",
      "https://www.mycarforum.com/forums/topic/2681275-most-expensive-house-in-singapore/\n",
      "https://www.mycarforum.com/forums/topic/2708995-property-tips-observations-and-actual-experiences/\n",
      "https://www.mycarforum.com/forums/topic/2716465-neighbours-from-hell/\n",
      "https://www.mycarforum.com/forums/topic/2715377-checklist-things-to-look-out-for-when-buying-a-place/\n",
      "https://www.mycarforum.com/forums/topic/2713691-property-agents-records-go-online/\n",
      "https://www.mycarforum.com/forums/topic/2714252-buying-melbourne-apartment-for-rental-income-worth/\n",
      "https://www.mycarforum.com/forums/topic/2706697-thailand-property-purchase-and-yield/\n",
      "https://www.mycarforum.com/forums/topic/2715521-living-in-private-housing-with-no-income/\n",
      "https://www.mycarforum.com/forums/topic/2715317-landed-terrace-btw-cashew-and-lentor/\n",
      "https://www.mycarforum.com/forums/topic/2714834-24-hour-security-what-do-you-expect/\n"
     ]
    },
    {
     "data": {
      "text/plain": [
       "<span class=\"ipsType_break ipsContained\">\n",
       "<a class=\"\" data-ipshover=\"\" data-ipshover-target=\"https://www.mycarforum.com/forums/topic/2714834-24-hour-security-what-do-you-expect/?preview=1\" data-ipshover-timeout=\"1.5\" href=\"https://www.mycarforum.com/forums/topic/2714834-24-hour-security-what-do-you-expect/\" title='\"24 Hour Security\"  ? What Do You Expect? '>\n",
       "<span>\n",
       "\t\t\t\t\t\t\t\t\t\"24 Hour Security\"  ? What Do You Expect?\n",
       "\t\t\t\t\t\t\t\t</span>\n",
       "</a>\n",
       "<ul class=\"ipsPagination ipsPagination_mini\" id=\"elPagination_ef916cd7c062d8f57ecc20bd8920babf\">\n",
       "<li class=\"ipsPagination_page\"><a data-ipstooltip=\"\" href=\"https://www.mycarforum.com/forums/topic/2714834-24-hour-security-what-do-you-expect/?page=1\" title=\"Go to page 1\">1</a></li>\n",
       "<li class=\"ipsPagination_page\"><a data-ipstooltip=\"\" href=\"https://www.mycarforum.com/forums/topic/2714834-24-hour-security-what-do-you-expect/?page=2\" title=\"Go to page 2\">2</a></li>\n",
       "<li class=\"ipsPagination_page\"><a data-ipstooltip=\"\" href=\"https://www.mycarforum.com/forums/topic/2714834-24-hour-security-what-do-you-expect/?page=3\" title=\"Go to page 3\">3</a></li>\n",
       "</ul>\n",
       "</span>"
      ]
     },
     "execution_count": 52,
     "metadata": {},
     "output_type": "execute_result"
    }
   ],
   "source": [
    "\n",
    "url = \"https://www.mycarforum.com/forums/forum/126-property-buzz/\"\n",
    "req = urllib.request.Request(url, headers={'User-Agent':'Mozilla/5.0'})\n",
    "soup = BeautifulSoup(urlopen(req).read(),\"html.parser\")\n",
    "page_number = get_page_num(soup)\n",
    "if page_number == 0:\n",
    "    page_number = 1\n",
    "links = get_links(page_number,url)\n",
    "store_articles(query,links)\n",
    "    "
   ]
  },
  {
   "cell_type": "code",
   "execution_count": 40,
   "metadata": {},
   "outputs": [],
   "source": [
    "def get_page_num(soup):\n",
    "    page_number = 0\n",
    "    for item in soup.find_all('div', attrs={'class':'ipsButtonBar ipsPad_half ipsClearfix ipsClear'}):\n",
    "        for page_num in item.find_all('li', attrs={'class':'ipsPagination_last'}):\n",
    "            last_page_link = page_num.a[\"href\"]\n",
    "            page_number = int(last_page_link[-2:])\n",
    "    return page_number"
   ]
  },
  {
   "cell_type": "code",
   "execution_count": 53,
   "metadata": {},
   "outputs": [],
   "source": [
    "def get_links(page_number,url):    \n",
    "    ret_links = []\n",
    "    counter = 1\n",
    "    while counter <= page_number:\n",
    "        new_url = url + \"?page=\" +  str(counter) \n",
    "        #print(new_url)\n",
    "        new_req = urllib.request.Request(new_url, headers={'User-Agent':'Mozilla/5.0'})\n",
    "        soup = BeautifulSoup(urlopen(new_req).read(),\"html.parser\") \n",
    "        for item in soup.find_all('div', attrs={'class':'ipsBox'}):\n",
    "            for lines in item.find_all('h4',attrs={'class':'ipsDataItem_title ipsContained_container'}):\n",
    "                for links in lines.find_all('span',attrs={'class':'ipsType_break ipsContained'}):\n",
    "                    link = links.a[\"href\"]\n",
    "                    ret_links.append(link)\n",
    "        counter+=1\n",
    "    return ret_links"
   ]
  },
  {
   "cell_type": "code",
   "execution_count": null,
   "metadata": {},
   "outputs": [],
   "source": [
    "def store_forum post(query,links):\n",
    "    counter = 1\n",
    "    for link in links:\n",
    "        s_req = urllib.request.Request(link, headers={'User-Agent':'Mozilla/5.0'})\n",
    "        link_soup = BeautifulSoup(urlopen(s_req).read(),\"html.parser\")\n",
    "        to_store = \"\"\n",
    "        for item in link_soup:\n",
    "            if not isinstance(item,element.NavigableString):\n",
    "                div_item = item.find('div',attrs={'class':'entry-text'})\n",
    "                if div_item:\n",
    "                    to_store += div_item.text\n",
    "\n",
    "        f= open(\"./seedly-articles/\" + query + str(counter) +\".txt\",\"w+\", encoding=\"utf-8\")\n",
    "        f.write(to_store)\n",
    "        f.close()\n",
    "        counter += 1"
   ]
  }
 ],
 "metadata": {
  "kernelspec": {
   "display_name": "Python 3",
   "language": "python",
   "name": "python3"
  },
  "language_info": {
   "codemirror_mode": {
    "name": "ipython",
    "version": 3
   },
   "file_extension": ".py",
   "mimetype": "text/x-python",
   "name": "python",
   "nbconvert_exporter": "python",
   "pygments_lexer": "ipython3",
   "version": "3.6.5"
  }
 },
 "nbformat": 4,
 "nbformat_minor": 2
}
