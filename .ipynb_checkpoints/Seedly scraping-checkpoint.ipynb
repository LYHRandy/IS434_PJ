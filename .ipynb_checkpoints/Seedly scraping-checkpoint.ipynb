{
 "cells": [
  {
   "cell_type": "code",
   "execution_count": 1,
   "metadata": {},
   "outputs": [],
   "source": [
    "from urllib.request import urlopen\n",
    "from bs4 import BeautifulSoup\n",
    "import urllib.request\n",
    "from lxml import html\n",
    "import requests\n",
    "import re\n",
    "from bs4 import element\n",
    "import os\n",
    "\n",
    "os.mkdir(\"seedly-articles\")"
   ]
  },
  {
   "cell_type": "code",
   "execution_count": 6,
   "metadata": {},
   "outputs": [
    {
     "name": "stdout",
     "output_type": "stream",
     "text": [
      "https://blog.seedly.sg/category/personal-finance-life-stages\n",
      "https://blog.seedly.sg/category/savings\n",
      "https://blog.seedly.sg/category/savings/page/2\n",
      "https://blog.seedly.sg/category/savings/page/3\n",
      "https://blog.seedly.sg/category/bto-housing\n",
      "https://blog.seedly.sg/category/bto-housing/page/2\n",
      "https://blog.seedly.sg/category/bto-housing/page/3\n",
      "https://blog.seedly.sg/category/bto-housing/page/4\n",
      "https://blog.seedly.sg/category/bto-housing/page/5\n",
      "https://blog.seedly.sg/category/insurance\n",
      "https://blog.seedly.sg/category/insurance/page/2\n",
      "https://blog.seedly.sg/category/insurance/page/3\n",
      "https://blog.seedly.sg/category/insurance/page/4\n",
      "https://blog.seedly.sg/category/insurance/page/5\n",
      "https://blog.seedly.sg/category/investing\n",
      "https://blog.seedly.sg/category/investing/page/2\n",
      "https://blog.seedly.sg/category/investing/page/3\n",
      "https://blog.seedly.sg/category/financial-lifestyle\n",
      "https://blog.seedly.sg/category/financial-lifestyle/page/2\n",
      "https://blog.seedly.sg/category/financial-lifestyle/page/3\n",
      "https://blog.seedly.sg/category/policies-opinion\n",
      "https://blog.seedly.sg/category/policies-opinion/page/2\n",
      "https://blog.seedly.sg/category/policies-opinion/page/3\n",
      "https://blog.seedly.sg/category/comparison\n",
      "https://blog.seedly.sg/category/comparison/page/2\n",
      "https://blog.seedly.sg/category/comparison/page/3\n",
      "https://blog.seedly.sg/category/comparison/page/4\n",
      "https://blog.seedly.sg/category/comparison/page/5\n",
      "https://blog.seedly.sg/category/comparison/page/6\n",
      "https://blog.seedly.sg/category/comparison/page/7\n",
      "https://blog.seedly.sg/category/comparison/page/8\n",
      "https://blog.seedly.sg/category/women-finance\n",
      "https://blog.seedly.sg/category/women-finance/page/2\n"
     ]
    }
   ],
   "source": [
    "\n",
    "    url = \"https://blog.seedly.sg/category/\"\n",
    "    url += query\n",
    "    req = urllib.request.Request(url, headers={'User-Agent':'Mozilla/5.0'})\n",
    "    soup = BeautifulSoup(urlopen(req).read(),\"html.parser\")\n",
    "    page_number = get_page_num(soup)\n",
    "    if page_number == 0:\n",
    "        page_number = 1\n",
    "    links = get_links(page_number,url)\n",
    "    store_articles(query,links)\n",
    "    "
   ]
  },
  {
   "cell_type": "code",
   "execution_count": 3,
   "metadata": {},
   "outputs": [],
   "source": [
    "def get_page_num(soup):\n",
    "    page_number = 0\n",
    "    for item in soup.find_all('div', attrs={'class':'post-navigation'}):\n",
    "        for page_num in item.find_all('a', attrs={'class':'page-numbers'}):\n",
    "            if page_num.getText():\n",
    "                extracted_page_num = int(page_num.getText()[0])\n",
    "                if page_number < extracted_page_num:\n",
    "                    page_number = extracted_page_num\n",
    "    return page_number"
   ]
  },
  {
   "cell_type": "code",
   "execution_count": 4,
   "metadata": {},
   "outputs": [],
   "source": [
    "def get_links(page_number,url):    \n",
    "    links = []\n",
    "    counter = 1\n",
    "    while counter <= page_number:\n",
    "        if counter == 1:\n",
    "            new_url = url\n",
    "        else:\n",
    "            new_url = url + \"/page/\" +  str(counter) \n",
    "        print(new_url)\n",
    "        new_req = urllib.request.Request(new_url, headers={'User-Agent':'Mozilla/5.0'})\n",
    "        soup = BeautifulSoup(urlopen(new_req).read(),\"html.parser\") \n",
    "        for item in soup.find_all('h2', attrs={'class':'entry-title'}):\n",
    "            line = item.a['href']\n",
    "            links.append(line)\n",
    "        counter+=1\n",
    "    return links"
   ]
  },
  {
   "cell_type": "code",
   "execution_count": 5,
   "metadata": {},
   "outputs": [],
   "source": [
    "def store_articles(query,links):\n",
    "    counter = 1\n",
    "    for link in links:\n",
    "        s_req = urllib.request.Request(link, headers={'User-Agent':'Mozilla/5.0'})\n",
    "        link_soup = BeautifulSoup(urlopen(s_req).read(),\"html.parser\")\n",
    "        to_store = \"\"\n",
    "        for item in link_soup:\n",
    "            if not isinstance(item,element.NavigableString):\n",
    "                div_item = item.find('div',attrs={'class':'entry-text'})\n",
    "                if div_item:\n",
    "                    to_store += div_item.text\n",
    "\n",
    "        f= open(\"./seedly-articles/\" + query + str(counter) +\".txt\",\"w+\", encoding=\"utf-8\")\n",
    "        f.write(to_store)\n",
    "        f.close()\n",
    "        counter += 1"
   ]
  },
  {
   "cell_type": "code",
   "execution_count": null,
   "metadata": {},
   "outputs": [],
   "source": []
  },
  {
   "cell_type": "code",
   "execution_count": null,
   "metadata": {},
   "outputs": [],
   "source": []
  }
 ],
 "metadata": {
  "kernelspec": {
   "display_name": "Python 3",
   "language": "python",
   "name": "python3"
  },
  "language_info": {
   "codemirror_mode": {
    "name": "ipython",
    "version": 3
   },
   "file_extension": ".py",
   "mimetype": "text/x-python",
   "name": "python",
   "nbconvert_exporter": "python",
   "pygments_lexer": "ipython3",
   "version": "3.6.5"
  }
 },
 "nbformat": 4,
 "nbformat_minor": 2
}
