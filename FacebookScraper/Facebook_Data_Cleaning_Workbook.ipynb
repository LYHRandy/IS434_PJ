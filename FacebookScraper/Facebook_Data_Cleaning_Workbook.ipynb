{
 "cells": [
  {
   "cell_type": "markdown",
   "metadata": {},
   "source": [
    "# 1.2 Cleaning and Collating of Data\n",
    "- Collating the comments which are categorized by post_ids\n",
    "- Cleaning and standardizing collated comments\n",
    "- Remove duplicate comments"
   ]
  },
  {
   "cell_type": "code",
   "execution_count": 1,
   "metadata": {},
   "outputs": [],
   "source": [
    "# Declaration of FINAL Static variables\n",
    "ROOT_DATA_FOLDER = './Data/' \n",
    "\n",
    "# Declaration of Dynamic variables\n",
    "page_list = [\n",
    "    'DollarsAndSense',\n",
    "    'MortgageConsultancy',\n",
    "    'Seedly',\n",
    "    'WokeManSalary'\n",
    "]"
   ]
  },
  {
   "cell_type": "code",
   "execution_count": 2,
   "metadata": {},
   "outputs": [],
   "source": [
    "import os\n",
    "import csv\n",
    "import traceback\n",
    "import datetime"
   ]
  },
  {
   "cell_type": "code",
   "execution_count": 3,
   "metadata": {},
   "outputs": [],
   "source": [
    "def read_comments_csv(filepath):\n",
    "    comments_data = []\n",
    "    \n",
    "    with open(filepath, mode='r') as csv_file:\n",
    "        csv_reader = csv.reader(csv_file, delimiter=',')\n",
    "        \n",
    "        line_number = 0\n",
    "        user_tagging_index = None\n",
    "        user_index = None\n",
    "        comment_index = None\n",
    "        comment_id_index = None\n",
    "        \n",
    "        for row in csv_reader:\n",
    "            if line_number == 0:       \n",
    "                \n",
    "                # Get header index\n",
    "                user_index = row.index('User')\n",
    "                comment_index = row.index('Comment')\n",
    "                comment_id_index = row.index('Comment_ID')\n",
    "                if filepath.split('/')[-2] == 'Comments_Tagging': user_tagging_index = row.index('User_Tagging') \n",
    "                    \n",
    "            else:\n",
    "                \n",
    "                # Get content from header index\n",
    "                content = [row[user_index], row[comment_index], row[comment_id_index]]\n",
    "                \n",
    "                if filepath.split('/')[-2] == 'Comments_Tagging': \n",
    "                    user_tagging = row[user_tagging_index]    \n",
    "                    content.append(user_tagging if 'https' not in user_tagging else '')\n",
    "                    \n",
    "                if content not in comments_data:\n",
    "                    comments_data.append(content)\n",
    "                \n",
    "            line_number += 1\n",
    "            \n",
    "    return comments_data\n",
    "\n",
    "def write_comments_csv(filepath, collated_comments_data):\n",
    "    print('Writing ' + filepath.split('/')[-1] + '...')\n",
    "    print('')\n",
    "\n",
    "    with open(filepath, mode='w') as csv_file:\n",
    "        csv_writer = csv.writer(csv_file, delimiter=',', quotechar='\"', quoting=csv.QUOTE_MINIMAL)\n",
    "\n",
    "        # Write Header\n",
    "        header = ['Post_ID', 'User', 'Comment', 'Comment_ID']\n",
    "        if 'tagging' in filepath: header.append('User_Comment_Tagging')\n",
    "        csv_writer.writerow(header)\n",
    "\n",
    "        # Write Content\n",
    "        for post_id, comments in collated_comments_data.items():\n",
    "            for comment in comments:\n",
    "                content = [post_id, comment[0],  comment[1], comment[2]]\n",
    "                if 'tagging' in filepath: content.append(comment[3])\n",
    "                csv_writer.writerow(content)"
   ]
  },
  {
   "cell_type": "code",
   "execution_count": null,
   "metadata": {},
   "outputs": [],
   "source": [
    "for page in page_list:\n",
    "    collated_comments_data = {}\n",
    "    comments_folder = ROOT_DATA_FOLDER + page + '/Comments_Tagging/'\n",
    "    \n",
    "    # Loads files in comment folders\n",
    "    comment_folder_files = os.listdir(comments_folder)\n",
    "    \n",
    "    # Remove excess file\n",
    "    if '.DS_Store' in comment_folder_files:\n",
    "        comment_folder_files.remove('.DS_Store')\n",
    "        \n",
    "    print('Reading ' + page + 'folder...')\n",
    "    \n",
    "    # Itterate through each post comments\n",
    "    for comment_filename in comment_folder_files:\n",
    "        if len(comment_filename) > 0: \n",
    "            post_id = comment_filename.split('_')[2].split('.')[0]\n",
    "\n",
    "            # Read and collate comments file\n",
    "            collated_comments_data[post_id] = read_comments_csv(comments_folder + comment_filename)\n",
    "       \n",
    "    print('Compiled', len(collated_comments_data), 'post(s) with a total of', sum([len(comments) for comments in collated_comments_data.values()]),'comment(s)')\n",
    "    \n",
    "    # Write collated comments into one large file\n",
    "    write_comments_csv(ROOT_DATA_FOLDER + page + '/' + page + '_collated_comments_tagging.txt', collated_comments_data)"
   ]
  }
 ],
 "metadata": {
  "kernelspec": {
   "display_name": "Python 3",
   "language": "python",
   "name": "python3"
  },
  "language_info": {
   "codemirror_mode": {
    "name": "ipython",
    "version": 3
   },
   "file_extension": ".py",
   "mimetype": "text/x-python",
   "name": "python",
   "nbconvert_exporter": "python",
   "pygments_lexer": "ipython3",
   "version": "3.7.2"
  }
 },
 "nbformat": 4,
 "nbformat_minor": 2
}
