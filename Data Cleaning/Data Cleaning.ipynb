{
 "cells": [
  {
   "cell_type": "code",
   "execution_count": 113,
   "metadata": {},
   "outputs": [
    {
     "name": "stdout",
     "output_type": "stream",
     "text": [
      "148\n"
     ]
    }
   ],
   "source": [
    "\n",
    "seedly_shareCounter = 0\n",
    "verifiedCounter = 0\n",
    "\n",
    "with open(\"seedlysg-2019-10-21.txt\", 'r',encoding='utf8') as file1, open('output-seedlysg-2019-10-21.txt', 'w',encoding='utf8') as file2:\n",
    "    for line in file1:\n",
    "        dict = {}\n",
    "        linesplit = line.split()\n",
    "        \n",
    "        comment = linesplit[0]\n",
    "        #if does not equal \"Verified\", write into the file \n",
    "        if(comment == \"Verified\"):\n",
    "            verifiedCounter += 1\n",
    "            continue\n",
    "        \n",
    "        comment = comment.split(\" \")\n",
    "        comment_length = len(comment)\n",
    "        \n",
    "        if comment_length == 1 and comment[0][0] == '@':\n",
    "            seedly_shareCounter += 1\n",
    "            continue\n",
    "\n",
    "        file2.write(\" \".join(line.split(' ')[0:5]))\n",
    "\n",
    "    print(seedly_shareCounter)\n"
   ]
  },
  {
   "cell_type": "code",
   "execution_count": 114,
   "metadata": {},
   "outputs": [
    {
     "name": "stdout",
     "output_type": "stream",
     "text": [
      "171\n"
     ]
    }
   ],
   "source": [
    "woke_shareCounter = 0\n",
    "\n",
    "with open(\"thewokesalaryman-2019-10-21.txt\", 'r',encoding='utf8') as file1, open('output-thewokesalaryman-2019-10-21.txt', 'w',encoding='utf8') as file2:\n",
    "    for line in file1:\n",
    "        dict = {}\n",
    "        linesplit = line.split()\n",
    "        \n",
    "        comment = linesplit[0]\n",
    "        comment = comment.split(\" \")\n",
    "        comment_length = len(comment)\n",
    "        \n",
    "        if comment_length == 1 and comment[0][0] == '@':\n",
    "            woke_shareCounter += 1\n",
    "            continue\n",
    "\n",
    "        file2.write(\" \".join(line.split(' ')[0:5]))\n",
    "\n",
    "    print(woke_shareCounter)\n"
   ]
  },
  {
   "cell_type": "code",
   "execution_count": 115,
   "metadata": {},
   "outputs": [
    {
     "name": "stdout",
     "output_type": "stream",
     "text": [
      "16\n"
     ]
    }
   ],
   "source": [
    "dns_shareCounter = 0\n",
    "\n",
    "with open(\"dnssingapore-2019-10-22.txt\", 'r',encoding='utf8') as file1, open('output-dnssingapore-2019-10-22.txt', 'w',encoding='utf8') as file2:\n",
    "    for line in file1:\n",
    "        dict = {}\n",
    "        linesplit = line.split()\n",
    "        \n",
    "        comment = linesplit[0]\n",
    "        comment = comment.split(\" \")\n",
    "        comment_length = len(comment)\n",
    "        \n",
    "        if comment_length == 1 and comment[0][0] == '@':\n",
    "            dns_shareCounter += 1\n",
    "            continue\n",
    "\n",
    "        file2.write(\" \".join(line.split(' ')[0:5]))\n",
    "\n",
    "    print(dns_shareCounter)\n"
   ]
  },
  {
   "cell_type": "code",
   "execution_count": 116,
   "metadata": {},
   "outputs": [
    {
     "name": "stdout",
     "output_type": "stream",
     "text": [
      "0\n"
     ]
    }
   ],
   "source": [
    "mc_shareCounter = 0\n",
    "\n",
    "with open(\"mortgageconsultancy-2019-10-22.txt\", 'r',encoding='utf8') as file1, open('output-mortgageconsultancy-2019-10-22.txt', 'w',encoding='utf8') as file2:\n",
    "    for line in file1:\n",
    "        dict = {}\n",
    "        linesplit = line.split()\n",
    "        \n",
    "        comment = linesplit[0]\n",
    "        comment = comment.split(\" \")\n",
    "        comment_length = len(comment)\n",
    "        \n",
    "        if comment_length == 1 and comment[0][0] == '@':\n",
    "            mc_shareCounter += 1\n",
    "            continue\n",
    "\n",
    "        file2.write(\" \".join(line.split(' ')[0:5]))\n",
    "\n",
    "    print(mc_shareCounter)\n"
   ]
  },
  {
   "cell_type": "code",
   "execution_count": null,
   "metadata": {},
   "outputs": [],
   "source": []
  }
 ],
 "metadata": {
  "kernelspec": {
   "display_name": "Python 3",
   "language": "python",
   "name": "python3"
  },
  "language_info": {
   "codemirror_mode": {
    "name": "ipython",
    "version": 3
   },
   "file_extension": ".py",
   "mimetype": "text/x-python",
   "name": "python",
   "nbconvert_exporter": "python",
   "pygments_lexer": "ipython3",
   "version": "3.7.3"
  }
 },
 "nbformat": 4,
 "nbformat_minor": 2
}
