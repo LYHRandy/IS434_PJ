{
 "cells": [
  {
   "cell_type": "code",
   "execution_count": null,
   "metadata": {},
   "outputs": [],
   "source": [
    "from textblob import TextBlob"
   ]
  },
  {
   "cell_type": "code",
   "execution_count": 15,
   "metadata": {},
   "outputs": [
    {
     "name": "stdout",
     "output_type": "stream",
     "text": [
      "Positive accuracy = 44.73684210526316% via 190 samples\n",
      "Negative accuracy = 55.26315789473685% via 190 samples\n"
     ]
    }
   ],
   "source": [
    "#Seedly \n",
    "pos_count_seedly = 0\n",
    "pos_correct_seedly = 0\n",
    "\n",
    "with open(\"output-seedlysg-2019-10-21.txt\", 'r', encoding='utf8') as f:\n",
    "    for line in f.read().split('\\n'):\n",
    "        analysis = TextBlob(line)\n",
    "        if analysis.sentiment.polarity > 0:\n",
    "            pos_correct_seedly += 1\n",
    "        pos_count_seedly +=1        \n",
    "\n",
    "neg_count_seedly = 0\n",
    "neg_correct_seedly = 0\n",
    "\n",
    "with open(\"output-seedlysg-2019-10-21.txt\", 'r', encoding='utf8') as f:\n",
    "    for line in f.read().split('\\n'):\n",
    "        analysis = TextBlob(line)\n",
    "        if analysis.sentiment.polarity <= 0:\n",
    "            neg_correct_seedly  += 1\n",
    "        neg_count_seedly  +=1\n",
    "\n",
    "print(\"Positive accuracy = {}% via {} samples\".format(pos_correct_seedly /pos_count_seedly *100.0, pos_count_seedly))\n",
    "print(\"Negative accuracy = {}% via {} samples\".format(neg_correct_seedly /neg_count_seedly *100.0, neg_count_seedly))\n"
   ]
  },
  {
   "cell_type": "code",
   "execution_count": 18,
   "metadata": {},
   "outputs": [
    {
     "name": "stdout",
     "output_type": "stream",
     "text": [
      "Positive accuracy = 48.86363636363637% via 88 samples\n",
      "Negative accuracy = 51.13636363636363% via 88 samples\n"
     ]
    }
   ],
   "source": [
    "#The WokeSalaryMan\n",
    "\n",
    "pos_count_woke = 0\n",
    "pos_correct_woke = 0\n",
    "\n",
    "with open(\"output-thewokesalaryman-2019-10-21.txt\", 'r', encoding='utf8') as f:\n",
    "    for line in f.read().split('\\n'):\n",
    "        analysis = TextBlob(line)\n",
    "        if analysis.sentiment.polarity > 0:\n",
    "            pos_correct_woke += 1\n",
    "        pos_count_woke +=1        \n",
    "    \n",
    "neg_count_woke = 0\n",
    "neg_correct_woke = 0\n",
    "\n",
    "with open(\"output-thewokesalaryman-2019-10-21.txt\", 'r', encoding='utf8') as f:\n",
    "    for line in f.read().split('\\n'):\n",
    "        analysis = TextBlob(line)\n",
    "        if analysis.sentiment.polarity <= 0:\n",
    "            neg_correct_woke += 1\n",
    "        neg_count_woke +=1\n",
    "\n",
    "print(\"Positive accuracy = {}% via {} samples\".format(pos_correct_woke/pos_count_woke*100.0, pos_count_woke))\n",
    "print(\"Negative accuracy = {}% via {} samples\".format(neg_correct_woke/neg_count_woke*100.0, neg_count_woke))\n"
   ]
  },
  {
   "cell_type": "code",
   "execution_count": 19,
   "metadata": {},
   "outputs": [
    {
     "name": "stdout",
     "output_type": "stream",
     "text": [
      "Positive accuracy = 49.6551724137931% via 145 samples\n",
      "Negative accuracy = 50.3448275862069% via 145 samples\n"
     ]
    }
   ],
   "source": [
    "#Dollars and Sense\n",
    "\n",
    "pos_count_dns = 0\n",
    "pos_correct_dns = 0\n",
    "\n",
    "with open(\"output-dnssingapore-2019-10-22.txt\", 'r', encoding='utf8') as f:\n",
    "    for line in f.read().split('\\n'):\n",
    "        analysis = TextBlob(line)\n",
    "        if analysis.sentiment.polarity > 0:\n",
    "            pos_correct_dns += 1\n",
    "        pos_count_dns +=1        \n",
    "    \n",
    "neg_count_dns = 0\n",
    "neg_correct_dns = 0\n",
    "\n",
    "with open(\"output-dnssingapore-2019-10-22.txt\", 'r', encoding='utf8') as f:\n",
    "    for line in f.read().split('\\n'):\n",
    "        analysis = TextBlob(line)\n",
    "        if analysis.sentiment.polarity <= 0:\n",
    "            neg_correct_dns += 1\n",
    "        neg_count_dns +=1\n",
    "\n",
    "print(\"Positive accuracy = {}% via {} samples\".format(pos_correct_dns/pos_count_dns*100.0, pos_count_dns))\n",
    "print(\"Negative accuracy = {}% via {} samples\".format(neg_correct_dns/neg_count_dns*100.0, neg_count_dns))\n"
   ]
  },
  {
   "cell_type": "code",
   "execution_count": 20,
   "metadata": {},
   "outputs": [
    {
     "name": "stdout",
     "output_type": "stream",
     "text": [
      "Positive accuracy = 22.89156626506024% via 83 samples\n",
      "Negative accuracy = 77.10843373493977% via 83 samples\n"
     ]
    }
   ],
   "source": [
    "#Mortgage Consultancy\n",
    "\n",
    "pos_count_mc = 0\n",
    "pos_correct_mc = 0\n",
    "\n",
    "with open(\"output-mortgageconsultancy-2019-10-22.txt\", 'r', encoding='utf8') as f:\n",
    "    for line in f.read().split('\\n'):\n",
    "        analysis = TextBlob(line)\n",
    "        if analysis.sentiment.polarity > 0:\n",
    "            pos_correct_mc += 1\n",
    "        pos_count_mc +=1        \n",
    "    \n",
    "neg_count_mc = 0\n",
    "neg_correct_mc = 0\n",
    "\n",
    "with open(\"output-mortgageconsultancy-2019-10-22.txt\", 'r', encoding='utf8') as f:\n",
    "    for line in f.read().split('\\n'):\n",
    "        analysis = TextBlob(line)\n",
    "        if analysis.sentiment.polarity <= 0:\n",
    "            neg_correct_mc += 1\n",
    "        neg_count_mc +=1\n",
    "\n",
    "print(\"Positive accuracy = {}% via {} samples\".format(pos_correct_mc/pos_count_mc*100.0, pos_count_mc))\n",
    "print(\"Negative accuracy = {}% via {} samples\".format(neg_correct_mc/neg_count_mc*100.0, neg_count_mc))\n"
   ]
  },
  {
   "cell_type": "code",
   "execution_count": null,
   "metadata": {},
   "outputs": [],
   "source": []
  }
 ],
 "metadata": {
  "kernelspec": {
   "display_name": "Python 3",
   "language": "python",
   "name": "python3"
  },
  "language_info": {
   "codemirror_mode": {
    "name": "ipython",
    "version": 3
   },
   "file_extension": ".py",
   "mimetype": "text/x-python",
   "name": "python",
   "nbconvert_exporter": "python",
   "pygments_lexer": "ipython3",
   "version": "3.6.5"
  }
 },
 "nbformat": 4,
 "nbformat_minor": 2
}
