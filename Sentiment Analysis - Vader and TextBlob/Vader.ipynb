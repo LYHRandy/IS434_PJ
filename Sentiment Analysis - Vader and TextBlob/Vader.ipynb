{
 "cells": [
  {
   "cell_type": "code",
   "execution_count": 1,
   "metadata": {},
   "outputs": [],
   "source": [
    "from vaderSentiment.vaderSentiment import SentimentIntensityAnalyzer "
   ]
  },
  {
   "cell_type": "code",
   "execution_count": 6,
   "metadata": {},
   "outputs": [
    {
     "name": "stdout",
     "output_type": "stream",
     "text": [
      "Positive accuracy = 47.368421052631575% via 190 samples\n",
      "Negative accuracy = 52.63157894736842% via 190 samples\n"
     ]
    }
   ],
   "source": [
    "#Seedly\n",
    "\n",
    "analyzer = SentimentIntensityAnalyzer()\n",
    "\n",
    "pos_count_vader_seedly = 0\n",
    "pos_correct_vader_seedly = 0\n",
    "\n",
    "with open(\"output-seedlysg-2019-10-21.txt\", 'r', encoding='utf8') as f:\n",
    "    for line in f.read().split('\\n'):\n",
    "        vs = analyzer.polarity_scores(line)\n",
    "        if vs['compound'] > 0:\n",
    "            pos_correct_vader_seedly += 1\n",
    "        pos_count_vader_seedly +=1\n",
    "    \n",
    "neg_count_vader_seedly = 0\n",
    "neg_correct_vader_seedly = 0\n",
    "\n",
    "with open(\"output-seedlysg-2019-10-21.txt\", 'r', encoding='utf8') as f:\n",
    "    for line in f.read().split('\\n'):\n",
    "        vs = analyzer.polarity_scores(line)\n",
    "        if vs['compound'] <= 0:\n",
    "            neg_correct_vader_seedly += 1\n",
    "        neg_count_vader_seedly +=1\n",
    "\n",
    "print(\"Positive accuracy = {}% via {} samples\".format(pos_correct_vader_seedly/pos_count_vader_seedly*100.0, pos_count_vader_seedly))\n",
    "print(\"Negative accuracy = {}% via {} samples\".format(neg_correct_vader_seedly/neg_count_vader_seedly*100.0, neg_count_vader_seedly))\n",
    "        "
   ]
  },
  {
   "cell_type": "code",
   "execution_count": 7,
   "metadata": {},
   "outputs": [
    {
     "name": "stdout",
     "output_type": "stream",
     "text": [
      "Positive accuracy = 56.81818181818182% via 88 samples\n",
      "Negative accuracy = 43.18181818181818% via 88 samples\n"
     ]
    }
   ],
   "source": [
    "#The WokeSalaryMan\n",
    "\n",
    "analyzer = SentimentIntensityAnalyzer()\n",
    "\n",
    "pos_count_vader_woke = 0\n",
    "pos_correct_vader_woke = 0\n",
    "\n",
    "with open(\"output-thewokesalaryman-2019-10-21.txt\", 'r', encoding='utf8') as f:\n",
    "    for line in f.read().split('\\n'):\n",
    "        vs = analyzer.polarity_scores(line)\n",
    "        if vs['compound'] > 0:\n",
    "            pos_correct_vader_woke += 1\n",
    "        pos_count_vader_woke +=1\n",
    "    \n",
    "neg_count_vader_woke = 0\n",
    "neg_correct_vader_woke = 0\n",
    "\n",
    "with open(\"output-thewokesalaryman-2019-10-21.txt\", 'r', encoding='utf8') as f:\n",
    "    for line in f.read().split('\\n'):\n",
    "        vs = analyzer.polarity_scores(line)\n",
    "        if vs['compound'] <= 0:\n",
    "            neg_correct_vader_woke += 1\n",
    "        neg_count_vader_woke +=1\n",
    "\n",
    "print(\"Positive accuracy = {}% via {} samples\".format(pos_correct_vader_woke/pos_count_vader_woke*100.0, pos_count_vader_woke))\n",
    "print(\"Negative accuracy = {}% via {} samples\".format(neg_correct_vader_woke/neg_count_vader_woke*100.0, neg_count_vader_woke))\n",
    "        "
   ]
  },
  {
   "cell_type": "code",
   "execution_count": 9,
   "metadata": {},
   "outputs": [
    {
     "name": "stdout",
     "output_type": "stream",
     "text": [
      "Positive accuracy = 55.86206896551724% via 145 samples\n",
      "Negative accuracy = 44.13793103448276% via 145 samples\n"
     ]
    }
   ],
   "source": [
    "#Dollars and Sense\n",
    "\n",
    "analyzer = SentimentIntensityAnalyzer()\n",
    "\n",
    "pos_count_vader_dns = 0\n",
    "pos_correct_vader_dns = 0\n",
    "\n",
    "with open(\"output-dnssingapore-2019-10-22.txt\", 'r', encoding='utf8') as f:\n",
    "    for line in f.read().split('\\n'):\n",
    "        vs = analyzer.polarity_scores(line)\n",
    "        if vs['compound'] > 0:\n",
    "            pos_correct_vader_dns += 1\n",
    "        pos_count_vader_dns +=1\n",
    "    \n",
    "neg_count_vader_dns = 0\n",
    "neg_correct_vader_dns = 0\n",
    "\n",
    "with open(\"output-dnssingapore-2019-10-22.txt\", 'r', encoding='utf8') as f:\n",
    "    for line in f.read().split('\\n'):\n",
    "        vs = analyzer.polarity_scores(line)\n",
    "        if vs['compound'] <= 0:\n",
    "            neg_correct_vader_dns += 1\n",
    "        neg_count_vader_dns +=1\n",
    "\n",
    "        \n",
    "print(\"Positive accuracy = {}% via {} samples\".format(pos_correct_vader_dns/pos_count_vader_dns*100.0, pos_count_vader_dns))\n",
    "print(\"Negative accuracy = {}% via {} samples\".format(neg_correct_vader_dns/neg_count_vader_dns*100.0, neg_count_vader_dns))\n",
    "        "
   ]
  },
  {
   "cell_type": "code",
   "execution_count": 10,
   "metadata": {},
   "outputs": [
    {
     "name": "stdout",
     "output_type": "stream",
     "text": [
      "Positive accuracy = 26.506024096385545% via 83 samples\n",
      "Negative accuracy = 73.49397590361446% via 83 samples\n"
     ]
    }
   ],
   "source": [
    "#Dollars and Sense\n",
    "\n",
    "analyzer = SentimentIntensityAnalyzer()\n",
    "\n",
    "pos_count_vader_mc = 0\n",
    "pos_correct_vader_mc = 0\n",
    "\n",
    "with open(\"output-mortgageconsultancy-2019-10-22.txt\", 'r', encoding='utf8') as f:\n",
    "    for line in f.read().split('\\n'):\n",
    "        vs = analyzer.polarity_scores(line)\n",
    "        if vs['compound'] > 0:\n",
    "            pos_correct_vader_mc += 1\n",
    "        pos_count_vader_mc +=1\n",
    "    \n",
    "neg_count_vader_mc = 0\n",
    "neg_correct_vader_mc = 0\n",
    "\n",
    "with open(\"output-mortgageconsultancy-2019-10-22.txt\", 'r', encoding='utf8') as f:\n",
    "    for line in f.read().split('\\n'):\n",
    "        vs = analyzer.polarity_scores(line)\n",
    "        if vs['compound'] <= 0:\n",
    "            neg_correct_vader_mc += 1\n",
    "        neg_count_vader_mc += 1\n",
    "\n",
    "print(\"Positive accuracy = {}% via {} samples\".format(pos_correct_vader_mc/pos_count_vader_mc*100.0, pos_count_vader_mc))\n",
    "print(\"Negative accuracy = {}% via {} samples\".format(neg_correct_vader_mc/neg_count_vader_mc*100.0, neg_count_vader_mc))\n",
    "        "
   ]
  },
  {
   "cell_type": "code",
   "execution_count": null,
   "metadata": {},
   "outputs": [],
   "source": []
  }
 ],
 "metadata": {
  "kernelspec": {
   "display_name": "Python 3",
   "language": "python",
   "name": "python3"
  },
  "language_info": {
   "codemirror_mode": {
    "name": "ipython",
    "version": 3
   },
   "file_extension": ".py",
   "mimetype": "text/x-python",
   "name": "python",
   "nbconvert_exporter": "python",
   "pygments_lexer": "ipython3",
   "version": "3.7.3"
  }
 },
 "nbformat": 4,
 "nbformat_minor": 2
}
