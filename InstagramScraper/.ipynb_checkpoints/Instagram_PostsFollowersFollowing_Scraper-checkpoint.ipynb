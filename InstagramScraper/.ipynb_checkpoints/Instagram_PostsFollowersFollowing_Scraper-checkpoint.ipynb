{
 "cells": [
  {
   "cell_type": "markdown",
   "metadata": {},
   "source": [
    "# Instagram Posts/Followe"
   ]
  },
  {
   "cell_type": "code",
   "execution_count": 1,
   "metadata": {},
   "outputs": [],
   "source": [
    "from selenium import webdriver\n",
    "from bs4 import BeautifulSoup as bs\n",
    "import requests\n",
    "import time\n",
    "import re\n",
    "from urllib.request import urlopen\n",
    "import json\n",
    "import os\n",
    "from pandas.io.json import json_normalize\n",
    "import pandas as pd, numpy as np\n",
    "from datetime import date "
   ]
  },
  {
   "cell_type": "code",
   "execution_count": 2,
   "metadata": {},
   "outputs": [],
   "source": [
    "def get_PFF(username):\n",
    "    \n",
    "    url = 'https://www.instagram.com/' + username\n",
    "\n",
    "    page = urlopen(url).read()\n",
    "    soup = bs(page, features=\"html.parser\")\n",
    "\n",
    "    string = soup.find(\"meta\",  property=\"og:description\")['content']\n",
    "\n",
    "    followers = string.split(\" Followers, \")[0].replace(\",\",\"\").replace(\"k\", \"000\")\n",
    "    if \".\" in followers:\n",
    "       followers = followers.replace(\".\",\"\")[:-1]\n",
    "\n",
    "    following = string.split(\" Followers, \")[1].split(\" Following, \")[0].replace(\",\",\"\").replace(\"k\", \"000\")\n",
    "    if \".\" in following:\n",
    "       following = following.replace(\".\",\"\")[:-1]\n",
    "\n",
    "    posts = string.split(\" Followers, \")[1].split(\" Following, \")[1].split(\" Posts\")[0].replace(\",\",\"\").replace(\"k\", \"000\")\n",
    "    if \".\" in posts:\n",
    "       posts = posts.replace(\".\",\"\")[:-1]\n",
    "\n",
    "    with open(os.getcwd()+\"/data/PostsFollowersFollowing/finance-\" + str(date.today())+'.txt', 'a+') as f:\n",
    "        f.write(username.strip() + \",\" + posts + \",\" + followers + \",\" + following + \"\\n\")"
   ]
  },
  {
   "cell_type": "code",
   "execution_count": 3,
   "metadata": {},
   "outputs": [],
   "source": [
    "if not os.path.exists(os.getcwd()+\"/data/PostsFollowersFollowing/\"):\n",
    "    os.makedirs(os.getcwd()+\"/data/PostsFollowersFollowing/\")\n",
    "        \n",
    "with open(os.getcwd()+\"/data/PostsFollowersFollowing/finance-\"+str(date.today())+'.txt', 'w+') as f:\n",
    "    f.write(\"username,posts,followers,following\\n\")\n",
    "    \n",
    "for username in open(\"usernames.txt\", \"r\"):\n",
    "    get_PFF(username.strip())"
   ]
  },
  {
   "cell_type": "code",
   "execution_count": 7,
   "metadata": {},
   "outputs": [],
   "source": [
    "get_PFF(\"alfaried\")"
   ]
  },
  {
   "cell_type": "code",
   "execution_count": null,
   "metadata": {},
   "outputs": [],
   "source": []
  }
 ],
 "metadata": {
  "kernelspec": {
   "display_name": "Python 3",
   "language": "python",
   "name": "python3"
  },
  "language_info": {
   "codemirror_mode": {
    "name": "ipython",
    "version": 3
   },
   "file_extension": ".py",
   "mimetype": "text/x-python",
   "name": "python",
   "nbconvert_exporter": "python",
   "pygments_lexer": "ipython3",
   "version": "3.6.4"
  }
 },
 "nbformat": 4,
 "nbformat_minor": 2
}
