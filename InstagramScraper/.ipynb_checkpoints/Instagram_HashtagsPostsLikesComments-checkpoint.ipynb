{
 "cells": [
  {
   "cell_type": "code",
   "execution_count": 40,
   "metadata": {},
   "outputs": [],
   "source": [
    "import time\n",
    "import os\n",
    "from urllib.request import urlopen\n",
    "from selenium import webdriver # allow launching browser\n",
    "from selenium.webdriver.common.by import By # allow search with parameters\n",
    "from selenium.webdriver.support.ui import WebDriverWait # allow waiting for page to load\n",
    "from selenium.webdriver.support import expected_conditions as EC # determine whether the web page has loaded\n",
    "from selenium.common.exceptions import TimeoutException # handling timeout situation\n",
    "from selenium.webdriver.common.keys import Keys\n",
    "\n",
    "from bs4 import BeautifulSoup\n",
    "import pandas as pd\n",
    "from IPython.display import display\n",
    "from datetime import date "
   ]
  },
  {
   "cell_type": "code",
   "execution_count": 56,
   "metadata": {},
   "outputs": [],
   "source": [
    "driver_option = webdriver.ChromeOptions()\n",
    "# driver_option.add_argument('--headless')\n",
    "# driver_option.add_argument('--incognito')\n",
    "chromedriver_path = '/Users/ellpeeaxe/Desktop/SMU/Y4S1/SA/chromedriver' # Change this to your own chromedriver path!\n",
    "\n",
    "def create_webdriver():\n",
    "    return webdriver.Chrome(executable_path=chromedriver_path, chrome_options=driver_option)\n",
    "\n",
    "def scroll(times,browser,last_height):\n",
    "    SCROLL_PAUSE_TIME = 3\n",
    "\n",
    "    scrolling = times\n",
    "    while scrolling > 0:\n",
    "        # Scroll down to bottom\n",
    "        browser.execute_script(\"window.scrollTo(0, document.body.scrollHeight);\")\n",
    "\n",
    "        # Wait to load page\n",
    "        time.sleep(SCROLL_PAUSE_TIME)\n",
    "\n",
    "        # Calculate new scroll height and compare with last scroll height\n",
    "        new_height = browser.execute_script(\"return document.body.scrollHeight\")\n",
    "        if new_height == last_height:\n",
    "            return False\n",
    "        last_height = new_height\n",
    "        scrolling -= 1\n",
    "    return True"
   ]
  },
  {
   "cell_type": "code",
   "execution_count": 57,
   "metadata": {},
   "outputs": [
    {
     "name": "stderr",
     "output_type": "stream",
     "text": [
      "/Users/ellpeeaxe/anaconda3/lib/python3.6/site-packages/ipykernel_launcher.py:7: DeprecationWarning: use options instead of chrome_options\n",
      "  import sys\n"
     ]
    },
    {
     "name": "stdout",
     "output_type": "stream",
     "text": [
      "36\n",
      "78\n",
      "120\n"
     ]
    }
   ],
   "source": [
    "browser = create_webdriver()\n",
    "# Open the website\n",
    "browser.get('https://www.instagram.com/explore/tags/starsearch2019/')\n",
    "\n",
    "#find number of posts with hashtag\n",
    "num_posts = int(browser.find_element_by_class_name('g47SY ').text.replace(\",\",\"\"))\n",
    "\n",
    "urls = []\n",
    "\n",
    "# Get scroll height\n",
    "last_height = browser.execute_script(\"return document.body.scrollHeight\")\n",
    "\n",
    "has_more = scroll(1,browser,last_height)\n",
    "\n",
    "while has_more:   \n",
    "\n",
    "    url_element = browser.find_elements_by_css_selector('div.v1Nh3.kIKUG._bz0w ')\n",
    "\n",
    "    remove_top = 9\n",
    "    for url in url_element:\n",
    "        if remove_top == 0:\n",
    "            url = url.get_attribute('innerHTML')\n",
    "            soup = BeautifulSoup(url, 'html.parser')\n",
    "            urls.append(soup.find('a')['href'])\n",
    "        else:\n",
    "            remove_top -= 1\n",
    "            \n",
    "    print(len(urls))\n",
    "    has_more = scroll(1,browser)\n",
    "\n",
    "browser.close()"
   ]
  },
  {
   "cell_type": "code",
   "execution_count": 58,
   "metadata": {},
   "outputs": [
    {
     "name": "stdout",
     "output_type": "stream",
     "text": [
      "60\n"
     ]
    }
   ],
   "source": [
    "urls = list(dict.fromkeys(urls))\n",
    "print(len(urls))"
   ]
  },
  {
   "cell_type": "code",
   "execution_count": null,
   "metadata": {},
   "outputs": [],
   "source": []
  }
 ],
 "metadata": {
  "kernelspec": {
   "display_name": "Python 3",
   "language": "python",
   "name": "python3"
  },
  "language_info": {
   "codemirror_mode": {
    "name": "ipython",
    "version": 3
   },
   "file_extension": ".py",
   "mimetype": "text/x-python",
   "name": "python",
   "nbconvert_exporter": "python",
   "pygments_lexer": "ipython3",
   "version": "3.6.4"
  }
 },
 "nbformat": 4,
 "nbformat_minor": 2
}
