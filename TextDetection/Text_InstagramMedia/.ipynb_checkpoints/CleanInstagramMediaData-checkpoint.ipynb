{
 "cells": [
  {
   "cell_type": "code",
   "execution_count": 1,
   "metadata": {},
   "outputs": [],
   "source": [
    "import os\n",
    "import pandas as pd"
   ]
  },
  {
   "cell_type": "code",
   "execution_count": 2,
   "metadata": {},
   "outputs": [],
   "source": [
    "folders = [\"dnssingapore\",\"thewokesalaryman\", \"seedlysg\", \"mortgageconsultancy\"]\n",
    "\n",
    "usernames = []\n",
    "timestamps = []\n",
    "mediaTypes = []\n",
    "infographic = []\n",
    "filenames = []\n",
    "\n",
    "for folder in folders:\n",
    "    for root, dirs, files in os.walk(folder):\n",
    "        for file in files:\n",
    "                \n",
    "            data, ext = os.path.splitext(file)\n",
    "            data = data.split(\"-\")\n",
    "            \n",
    "            # Change timestamp to this format: YYYYMMDDThhmm E.G.20190622T0353\n",
    "            day = data[2]\n",
    "            hour = data[3]\n",
    "            minute = data[4]\n",
    "            \n",
    "            timestamp = day + \"T\" + hour[:2] + minute[:2]\n",
    "\n",
    "            usernames.append(folder)\n",
    "            timestamps.append(timestamp)\n",
    "            mediaTypes.append(data[0])\n",
    "            infographic.append(data[5])\n",
    "            filenames.append(file)\n",
    "\n",
    "df = pd.DataFrame({'username': usernames, \n",
    "                   'timestamp': timestamps, \n",
    "                   'mediaType' : mediaTypes,\n",
    "                   'isInfographic': infographic, \n",
    "                   'filename': filenames})"
   ]
  },
  {
   "cell_type": "code",
   "execution_count": 4,
   "metadata": {},
   "outputs": [],
   "source": [
    "df.to_csv(os.getcwd()+\"InstagramMediaTypes.txt\",sep='\\t',index = False,encoding='utf-8')"
   ]
  },
  {
   "cell_type": "code",
   "execution_count": null,
   "metadata": {},
   "outputs": [],
   "source": []
  }
 ],
 "metadata": {
  "kernelspec": {
   "display_name": "Python 3",
   "language": "python",
   "name": "python3"
  },
  "language_info": {
   "codemirror_mode": {
    "name": "ipython",
    "version": 3
   },
   "file_extension": ".py",
   "mimetype": "text/x-python",
   "name": "python",
   "nbconvert_exporter": "python",
   "pygments_lexer": "ipython3",
   "version": "3.6.4"
  }
 },
 "nbformat": 4,
 "nbformat_minor": 2
}
